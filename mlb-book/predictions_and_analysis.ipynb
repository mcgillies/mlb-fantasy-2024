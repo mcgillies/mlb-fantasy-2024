{
 "cells": [
  {
   "cell_type": "markdown",
   "metadata": {},
   "source": [
    "# Players to watch\n",
    "\n",
    "Here I will provide three players for each position - one upper echelon player to target, one sleeper, and one bust. Upper echelon players are likely going in top half of drafts and may be contested. Sleepers are generally going to be outside of the top 200 according to ESPN rankings and can likely be selected at the very end of the draft. Upside is the goal of sleepers. "
   ]
  }
 ],
 "metadata": {
  "language_info": {
   "name": "python"
  }
 },
 "nbformat": 4,
 "nbformat_minor": 2
}
