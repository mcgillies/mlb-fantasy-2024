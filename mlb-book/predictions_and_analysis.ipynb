{
 "cells": [
  {
   "cell_type": "markdown",
   "metadata": {},
   "source": [
    "# Players to watch\n",
    "\n",
    "Here I will provide three players for each position - one upper echelon player to target, one sleeper, and one bust. Upper echelon players are likely going in top half of drafts and may be contested. Sleepers are generally going to be outside of the top 200 according to ESPN rankings and can likely be selected at the very end of the draft. Upside is the goal of sleepers. I will provide a brief description along with a lime plot explaining what stats drove the predictions up and down in my model. The plot will show the value of each feature (which is scaled), and more importantly the impact on the prediction. A green bar indicates a positive contribution while red indicates negative, and the magnitude indicates how large of a contribution. \n",
    "\n",
    "I will not be talking about DH - my only suggestion is do not draft a DH only player (besides Ohtani) as it really can clog up a lineup having to always use them as UTIL. "
   ]
  }
 ],
 "metadata": {
  "language_info": {
   "name": "python"
  }
 },
 "nbformat": 4,
 "nbformat_minor": 2
}
