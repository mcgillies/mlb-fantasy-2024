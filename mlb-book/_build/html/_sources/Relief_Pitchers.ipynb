{
 "cells": [
  {
   "cell_type": "markdown",
   "metadata": {},
   "source": [
    "# Relief Pitchers\n",
    "\n",
    "See Relief Pitcher rankings [here](https://github.com/mcgillies/mlb-fantasy-2025/blob/main/predictions/RP_ranks.csv)\n",
    "\n",
    "Relief pitchers are extremely volatile year to year and rely heavily on saves - which are very situational. I feel that ESPN values relievers too high in general, but that is up to interpretation. \n",
    "\n",
    "## Upper Echelon: Jhoan Duran - MIN (My Rank: 97, ESPN: 100)\n",
    "Duran had a down year for his standards last year with a 3.64 ERA. His 2.76 xERA and 2.25 xFIP indicate otherwise however. Duran possesses obscene stuff - headlined by a fastball that averages 100.5 MPH and a \"splinker\" that averages 97 MPH. He possessed a 88th percentile K rate (28.9%), 70th percentile BB rate (6.6%) and a 99th percentile groundball rate (61.7%) in 2024, all traits of a dominant closer. He does have some competiton for saves in Griffin Jax, however he is pretty locked in as the Twins closer this season. I like Duran as a high upside option out of the pen. \n",
    "![Jhoan Duran Explanation](/figures/Jhoan_Duran_Explanation.png)\n",
    "\n",
    "## Upper Echelon: Felix Bautista - BAL (My Rank: 67, ESPN: 82)\n",
    "There are questions about the volume Bautista will obtain this year as he is returning from Tommy John surgery. There are not any questions about his performance. In his last season in 2023, Bautista posted a miniscule 1.48 ERA with a 2.30 xFIP. He also had four statistics in the 100th percentile - xERA (2.08), xBA(.142), whiff % (44.3%) and K% (46.4%). His 99.5 MPH fastball has a ridiculous 20.5 inches of vertical break, and he pairs this with a devastating splitter. He may be a bit slow out of the gate, but there is no reason to expect much different from Bautista this season. He very well might be the best per-inning pitcher in the league. \n",
    "![Felix Bautista Explanation](/figures/Felix_Bautista_Explanation.png)\n",
    "\n",
    "## Sleeper: Lucas Erceg - KCR (My Rank: 261, ESPN: 180)\n",
    "Note: Erceg is not offically the closer yet as Carlos Estevez could be involved as well. This is assuming Erceg wins the job. \n",
    "\n",
    "After being acquired midseason in 2024, Erceg posted a 2.88 ERA and 1.17 FIP with the Royals in 23 appearances. Overall he posted a 3.36 ERA and a 2.53 FIP on the season. Erceg has a rare four pitch mix out of the bullpen - utilizing a fastball, slider, sinker and changeup all above 20% of the time. Erceg really had no weakness last season - ending up above the 50th percentile in every statistic presented by Baseball Savant. He does not strike out batter at the same ridiculous rate as other big time closers, but he can be just as effective. \n",
    "![Lucas Erceg Model Explanation](/figures/Lucas_Erceg_Explanation.png)\n",
    "\n",
    "\n",
    "## Bust: Ryan Helsley - STL (My Rank: 90, ESPN: 48)\n",
    "Helsley was very effective in 2024 posting a 2.04 ERA and 49 saves. However his 2.72 xERA and 3.35 xFIP indicate he maybe wasn't as good as the base level statistics indicate. His K% of 29.7% in 2024 was down significantly from the previous two season as well, although it is still nothing to scoff at. There are slight some control issues with Helsley, as he produced a 40th percentile walk rate of 8.6% and did have some blow up outings. His low groundball percent of 37.2% leaving him vulnerable to extra base hits, which can be very costly as a closer looking to avoid blown saves. His 49 saves in 2024 also led the league, which seems very unlikely to occur again playing on a very mediocre Cardinals team in 2024. Take someone such as Mason Miller or Raisel Iglesias instead if you want a reliver in this range. \n",
    "![Ryan Helsley Explanation](/figures/Ryan_Helsley_Explanation.png)\n",
    "\n",
    "\n"
   ]
  }
 ],
 "metadata": {
  "language_info": {
   "name": "python"
  }
 },
 "nbformat": 4,
 "nbformat_minor": 2
}
