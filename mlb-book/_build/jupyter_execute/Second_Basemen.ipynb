{
 "cells": [
  {
   "cell_type": "markdown",
   "metadata": {},
   "source": [
    "# Second Basemen\n",
    "\n",
    "See the second basemen rankings [here](https://github.com/mcgillies/mlb-fantasy-2025/blob/main/predictions/2B_ranks.csv)\n",
    "\n",
    "## Upper Echelon: Luis Garcia - WSH (My Rank: 81, ESPN: 160)\n",
    "This is very borderline for what is considered upper echelon, however none of the options above Garcia really spoke to me. I do think Xander Bogaerts is good for a bounce back season as well. \n",
    "\n",
    "Garcia very quietly broke out last season along with his middle infield partner CJ Abrams. He was two home runs away from a 20-20 season while also contributing a .762 OPS at a relatively barren position. He is not capable of walking with a BB% of 5%, however he avoids striking out (16.3%) and squares the ball up well with decent exit velocities. He also increased his average launch angle by 3 degrees last year, indicating a shift in approach. He is nothing special, but he is a quality second baseman who will contribute in many different ways without hurting you too badly. He is also a good fielder - although this doesn't help in fantasy. If you don't want to use an early pick on someone like Ketel or Altuve, Garcia could be a nice fallback option. \n",
    "\n",
    "![Luis Garcia Model Explanation](/figures/Luis_Garcia_explanation.png)\n",
    "\n",
    "## Sleeper: Brandon Lowe - TBR (My Rank: 230, ESPN: 282)\n",
    "Lowe is not your prototypical second baseman - if anything the opposite. When he makes contact it goes well: last season he has a 91st percentile xSLG and 94th percentile LA Sweet Spot % (how often he hits the ball at the ideal launch angle). However he strikes out at a 26% clip while only walking 8% of the time. He is often hampered by injuries (only 1 of 7 season with more than 110 games played), however he always produces. Lowe has obtained an OPS+ of at least 100 in every season of his career. People forget he hit 39 HR with a 140 OPS+ in 2021 to follow up his 154 OPS+ 2020 campaign. We obviously aren't expecting these numbers anymore, but he is still more than serviceable. His game is less conducive to fantasy than many others, but there is a chance he has a big season in store. \n",
    "![Brandon Lowe Model Explanation](/figures/Brandon_Lowe_explanation.png)\n",
    "\n",
    "\n",
    "## Bust: Marcus Semien - TEX (My Rank: 46, ESPN: 32)\n",
    "This is not a case of a total bust - Semien is just slightly overvalued here. Semien has always been a very heavy \"pull for power\" hitter - something that expected stats and batted ball metrics fail to capture. However his numbers decreased significantly last year, dropping from a .826 OPS to a .699 OPS. He is 34 years old and may be at the beginning of a downturn. He does put the ball in play very well, however there just isn't much juice there with a 10th percentile bat speed. The stolen bases are dropping as well, down to 8 from 25 in 2022. One plus of Semien is that he always plays, eclipsing 700 plate appearances in each of the last 3 seasons. Another irrelevant fielding note: Semien was still 100th percentile in OAA last season. Impressive! Semien is a high floor low ceiling pick, and ESPN's valuation of him as a fourth round player is just a bit high for me. Take him in the 6th on if he gets there. \n",
    "![Marcus Semien Model Explanation](/figures/Marcus_Semien_explanation.png)"
   ]
  }
 ],
 "metadata": {
  "language_info": {
   "codemirror_mode": {
    "name": "ipython",
    "version": 3
   },
   "file_extension": ".py",
   "mimetype": "text/x-python",
   "name": "python",
   "nbconvert_exporter": "python",
   "pygments_lexer": "ipython3",
   "version": "3.13.1"
  }
 },
 "nbformat": 4,
 "nbformat_minor": 2
}