{
 "cells": [
  {
   "cell_type": "markdown",
   "metadata": {},
   "source": [
    "# First Basemen\n",
    "\n",
    "See first basemen rankings [here](https://github.com/mcgillies/mlb-fantasy-2025/blob/main/predictions/1B_ranks.csv)\n",
    "\n",
    "Let me say one thing - having Luiz Arraez above Vladdy is questionable at best.\n",
    "\n",
    "## Upper Echelon: Matt Olson - ATL (My Rank: 31, ESPN: 52)\n",
    "We are quick to forget that Olson hit 54 home runs with 139 RBIs and a fourth place MVP finish just two years ago. He does strikeout a fair amount (25% last season), however he offsets this with good discipline at a 10% walk rate last year, although down from 14% in 2023. Last season was a difficult season for Atlanta as a whole, and I expect a bounce back from all of them with Olson at the head of it. He was still significantly above average in a large majority of metrics last season, headlined by an avg EV and barrel % above 80th percentile. Not to mention his savant page in 2023 that is a sight for sore eyes with 6 stats at or above the 95% percentile. I wouldn't expect 2023 all over again, but buy into the bounce back this year. \n",
    "![Matt Olson Model Explanation](/figures/Matt_Olson_explanation.png)\n",
    "\n",
    "## Sleeper: Tyler Soderstrom - ATH (My Rank 129, ESPN 435)\n",
    "Soderstrom destroys baseballs - especially fastballs. He had a .620 SLG (.649 xSLG) and a .444 wOBA (0.447 xwOBA) last season against them. He also achieved a 14.6 barrel % (~ 90th percentile) along with a 91.9 avg EV last season. He is a bit prone to the swing and miss with a 25% K rate last year, however that is an increase from his 30% K rate previously. Keep in mind this is a small sample - only 213 plate appearances - likely explaining the complete missage of his ascencion by ESPN. If he can make any progress hitting the breaking ball and offspeed this season watch out. Another thing to note: the Athletics are moving from a notoroius pitcher's park in Oakland to a park that should at least be somewhat hitter friendly in Sacramento. He has also played catcher in nearly half of his professional (including minor league) games. Don't expect catcher eligibility, but 10 games at catcher this season to gain catcher eligibility is definitely not impossible. Buy in at the end of your drafts. \n",
    "![Tyler Soderstrom Model Explanation](/figures/Tyler_Soderstrom_explanation.png)\n",
    "\n",
    "\n",
    "## Bust: Spencer Horwitz - PIT (My Rank 447, ESPN 170)\n",
    "Note: my rank does include the fact that Horwitz will be out for the first few weeks of the season. \n",
    "I am a Blue Jays fan (unfortunately) so this does hurt a bit. Horwitz has just never pushed the needle for me. He is good at putting the ball in play (19.4% whiff rate) and has a relatively low K rate (18.4%) and high walk rate (11%), but he lacks juice. A 29th percentile avg EV paired with 17th percentile bat speed really limit his power potential. Although the move to PNC Park may help him as it is a gap hitters park, he faces a steep lineup decrease around him, limiting RBI chances. He is also 27 years old coming into his first true full season, limiting the room for growth a bit. First base has a plethora of lower-tier options, and if you are taking this route I would suggest pivoting somewhere with a bit more upside. \n",
    "![Spencer Horwitz Model Expectation](/figures/Spencer_Horwitz_explanation.png)\n",
    "\n",
    "\n"
   ]
  }
 ],
 "metadata": {
  "language_info": {
   "codemirror_mode": {
    "name": "ipython",
    "version": 3
   },
   "file_extension": ".py",
   "mimetype": "text/x-python",
   "name": "python",
   "nbconvert_exporter": "python",
   "pygments_lexer": "ipython3",
   "version": "3.13.1"
  }
 },
 "nbformat": 4,
 "nbformat_minor": 2
}