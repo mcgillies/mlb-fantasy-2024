{
 "cells": [
  {
   "cell_type": "markdown",
   "metadata": {},
   "source": [
    "# Catchers\n",
    "\n",
    "See catcher rankings [here](https://github.com/mcgillies/mlb-fantasy-2025/blob/main/predictions/C_ranks.csv)\n",
    "\n",
    "\n",
    "## Upper Echelon: Willson Contreras - STL (My rank: 112, ESPN 126)\n",
    "Catcher is a very barren position in fantasy baseball. My rankings also do not particularly like catchers - Willson is one of the few catchers whose rank is higher in my predictions. Contreras has had an OPS above .800 for the previous 3 seasons and is showing no signs of slowing down. He paired quality batted ball metrics (93th percentile xwOBA, 86th percentile avg EV) with one of the best eyes in the league (97th percentile walk rate) last season. He seemed to change his approach last season, with a spike in walk rate and also a spike in strikeout rate. We can live with this strikeout rate as its offsets with the walks. The best part - he is primed to play a near-everyday role this season at first base, allowing him to gain eligibility at another position while playing far more than nearly all other catchers. If you want a high level catcher without spending a top 50 pick on his brother or Adley this is your guy. \n",
    "\n",
    "![Willson Contreras Model Explanation](/figures/Willson_Contreras_explanation.png)\n",
    "\n",
    "## Sleeper: Luis Campusano - SDP (My rank: 203, ESPN 325)\n",
    "We are digging deep here as once again catcher options are limited. Campusano's success relies on maintaining a solid role ahead of Elias Diaz - which can easily be achieved. He disappointed last year after a strong 2023 campaign highlighted by a .319 BA and .847 OPS, albeit in only 174 plate appearances. Last year that fell to a .227 BA and a .642 OPS with below average expected stats as well. This seems to stem from a decrease in launch angle sweet spot % - hitting far more weak groundballs and less line drives. However he did underperform his estimators with an xSLG and xwOBA both about 40 points higher than the true stats. He also is very adept at not striking out, with strikeout rates < 14% the last two years. This raises his floor significantly, although he rarely walks. Catchers usually pop up on the waiver wire throughout the season, so if you are looking to \"punt\" catcher this is a good shot. \n",
    "\n",
    "![Luis Campusano Model Explanation](/figures/Luis_Campusano_explanation.png)\n",
    "\n",
    "\n",
    "## Bust: Tyler Stephenson - CIN (My rank: 307, ESPN: 147)\n",
    "Note: My model quite dislikes Yainer Diaz, however I feel he will still be a top 5 option\n",
    "Stephenson is quite an average hitter - many of his metrics are around the middle of the pack. His plate discipline has improved over the years, and playing at Great American Ballpark always helps, however he just does not excite me. He overachieved his estimators last season, specifcally in regards to slugging with a SLG .40 points greater than his xSLG. He also puts the ball on the ground more than average at 47.8 GB%, limiting his overall upside. Not the worst pick you could make, but Stephenson is likely just above the \"droppable\" threshold for a catcher and drafting and holding him all season rather than picking up a breakout catcher off waivers may prove costly. \n",
    "![Tyler Stephenson Model Explanation](/figures/Tyler_Stephenson_explanation.png)\n"
   ]
  }
 ],
 "metadata": {
  "language_info": {
   "name": "python"
  }
 },
 "nbformat": 4,
 "nbformat_minor": 2
}
