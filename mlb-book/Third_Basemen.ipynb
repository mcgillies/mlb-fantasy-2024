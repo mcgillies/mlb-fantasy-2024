{
 "cells": [
  {
   "cell_type": "markdown",
   "metadata": {},
   "source": [
    "# Third Basemen\n",
    "\n",
    "See the third basemen rankings [here](https://github.com/mcgillies/mlb-fantasy-2025/blob/main/predictions/3B_ranks.csv)\n",
    "\n",
    "## Upper Echelon: Alex Bregman - HOU (My Rank: 13, ESPN: 38) AND Austin Riley - ATL (My Rank: 38, ESPN: 64)\n",
    "I will be coming out of my draft with one of these two at third base. \n",
    "\n",
    "First, Bregman. He is elite at making contact with a 13% K rate and an obscenely low 13% whiff rate. He also squares the ball up very well with a 96th percentile squared up rate. His metrics may not make you frolic around the kitchen, but he is another one of the \"pull for power\" types. The caveat: he just moved to Fenway Park and will be taking shots at the Green Monster all season. This should lead to a ton of extra base hits. The decrease in walk rate is slightly concerning (13% in 2023 to 7% in 2024), but this seems like an outlier given he has had a BB% > 11% for the prior seven seasons. He will also very likely gain 2B eligibility this season, barring Rafael Devers realizing he is an awful defender at third base. \n",
    "![Alex Bregman Model Explanation](/figures/Alex_Bregman_explantion.png)\n",
    "\n",
    "Similarly to Matt Olson, I expect a bounce back season from Austin Riley. He just mashes baseballs. In a down season last year he still was 90th percentile or above in the following metrics: xwOBA, xSLG, avg EV, Barrel%, Hard-Hit% and Bat Speed. He underachieved his estimators as well, with his SLG .40 points below his xSLG and wOBA .25 points below his xwOBA. He does strike out more and walk less than you would like, but his underlying stats mirror his 2022 and 2023 stats where he hit for a .877 and .861 OPS respectively. He also dealt with oblique injuries throughout the 2024 season, likely hampering his play. I'm taking Riley every day of the week, especially at this ESPN rank. \n",
    "![Austin Riley Model Explanation](/figures/Austin_Riley_explanation.png)\n",
    "\n",
    "## Sleeper: Matt Shaw - CHC (My Rank: NA, ESPN 276)\n",
    "Forget about my projections for a second here. There aren't a ton of sleeper third baseman that excite me so I'm going to go with the Cubs rookie, who is slated to start at third base with the departure of Isaac Paredes. The 13th overall pick in 2023 has lit up the minor leagues to a tune of at least a 120 wRC+ at every level he has played at, including an overall wRC+ of 146 last season in AA/AAA. He had above average walk and strikeout rates at 12% and 18% respectively last season, which helps his fantasy stock. He also stole 31 bases last season. He loves hitting the ball to the opposite field - with 41% of his balls in play last year going there. Major projection systems have him hovering around a .720 OPS next season with ~15 HR and 20 SB. He is eligible at 2B and SS as well in ESPN leagues. Shaw could prove to be a very valuable utility man for your team at the end of drafts. \n",
    "\n",
    "\n",
    "## Bust: Nolan Arenado - STL for now (My Rank: 123, ESPN: 70)\n",
    "Arenado's time as one of the leagues elite may be coming to an end. His OPS dropped to .719 last season after hovering around or above .800 for his entire career. He also produced a dismal 6th percentile barrel percentage (3.2%) along with a 9th percentile avg EV (86.3). His metrics have been declining year after year, although he never truly lit up the savant page with his pull heavy approach. Walking is not a strong suit of Arenado, with a 6.9% walk rate in 2024. His saving grace is a lack of strikeouts (92nd percentile at 14.5 K%). Barring a trade and career revival I would fade Arenado, especially at rank 70. \n",
    "![Nolan Arenado Model Explanation](/figures/Nolan_Arenado_explanation.png)"
   ]
  }
 ],
 "metadata": {
  "language_info": {
   "name": "python"
  }
 },
 "nbformat": 4,
 "nbformat_minor": 2
}
