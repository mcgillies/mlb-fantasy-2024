{
 "cells": [
  {
   "cell_type": "markdown",
   "metadata": {},
   "source": [
    "## Players to watch ESPN vs ADP\n",
    "\n",
    "- Acuna\n",
    "- Seager\n",
    "- Harper\n",
    "- Olson\n",
    "- Joe ryan\n",
    "- Yamamoto\n",
    "- Riley\n",
    "- Robbie Ray\n",
    "- Severino\n",
    "- Luis Robert\n",
    "- Jesus Sanchez\n",
    "- Baz\n",
    "- Mcclanahan\n",
    "- Bradley\n",
    "- Rasmussen\n",
    "- Whole rays staff really\n",
    "- Willson Contreras\n",
    "- Strider\n",
    "- Trout\n",
    "- Luzardo\n",
    "- Clay Holmes\n",
    "- Soderstrom"
   ]
  }
 ],
 "metadata": {
  "language_info": {
   "name": "python"
  }
 },
 "nbformat": 4,
 "nbformat_minor": 2
}
